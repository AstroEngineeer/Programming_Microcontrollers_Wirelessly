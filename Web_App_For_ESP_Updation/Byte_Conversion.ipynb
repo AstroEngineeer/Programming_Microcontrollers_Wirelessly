{
 "cells": [
  {
   "cell_type": "code",
   "execution_count": 1,
   "metadata": {},
   "outputs": [
    {
     "ename": "SyntaxError",
     "evalue": "(unicode error) 'unicodeescape' codec can't decode bytes in position 3-4: truncated \\uXXXX escape (413680754.py, line 2)",
     "output_type": "error",
     "traceback": [
      "\u001b[1;36m  Input \u001b[1;32mIn [1]\u001b[1;36m\u001b[0m\n\u001b[1;33m    f = open(\"uno\\uno.ino.with_bootloader.standard.hex\", 'rb')\u001b[0m\n\u001b[1;37m                                                       ^\u001b[0m\n\u001b[1;31mSyntaxError\u001b[0m\u001b[1;31m:\u001b[0m (unicode error) 'unicodeescape' codec can't decode bytes in position 3-4: truncated \\uXXXX escape\n"
     ]
    }
   ],
   "source": [
    "try:\n",
    "    f = open(\"uno\\\\uno.ino.with_bootloader.standard.hex\", 'rb')\n",
    "    while True:\n",
    "        binarycontent = f.read(-1)  \n",
    "        if not binarycontent:\n",
    "            break\n",
    "        print(binarycontent)\n",
    "except IOError:\n",
    "    print('Error While Opening the file!')"
   ]
  }
 ],
 "metadata": {
  "interpreter": {
   "hash": "b368070cdb7d74805f43f53970366d6a174784f201a2c3d53fd56ede530233a0"
  },
  "kernelspec": {
   "display_name": "Python 3.10.0 ('Qcomputing')",
   "language": "python",
   "name": "python3"
  },
  "language_info": {
   "codemirror_mode": {
    "name": "ipython",
    "version": 3
   },
   "file_extension": ".py",
   "mimetype": "text/x-python",
   "name": "python",
   "nbconvert_exporter": "python",
   "pygments_lexer": "ipython3",
   "version": "3.10.0"
  },
  "orig_nbformat": 4
 },
 "nbformat": 4,
 "nbformat_minor": 2
}
